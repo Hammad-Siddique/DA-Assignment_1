{
 "cells": [
  {
   "cell_type": "code",
   "execution_count": 3,
   "id": "cbabff46-cd42-4aef-8c1c-db2a8ad66aef",
   "metadata": {},
   "outputs": [],
   "source": [
    "salaries=['20k','40k','50k','60k','35k','89k','40k']"
   ]
  },
  {
   "cell_type": "code",
   "execution_count": 4,
   "id": "32d84998-db83-4f76-b654-a457429fcc39",
   "metadata": {},
   "outputs": [
    {
     "name": "stdout",
     "output_type": "stream",
     "text": [
      "['20k', '40k', '50k', '60k', '35k', '89k', '40k']\n"
     ]
    }
   ],
   "source": [
    "print(salaries)"
   ]
  },
  {
   "cell_type": "markdown",
   "id": "0fb16dbb-b59a-4209-ab71-11edc044e5cb",
   "metadata": {},
   "source": [
    "### 1. What is the length of the salaries list."
   ]
  },
  {
   "cell_type": "code",
   "execution_count": 6,
   "id": "78a1aa40-6009-4074-a34a-c893cfc4819c",
   "metadata": {},
   "outputs": [
    {
     "data": {
      "text/plain": [
       "7"
      ]
     },
     "execution_count": 6,
     "metadata": {},
     "output_type": "execute_result"
    }
   ],
   "source": [
    "len(salaries)"
   ]
  },
  {
   "cell_type": "markdown",
   "id": "2866721f-126d-42e8-998d-b1131ed38344",
   "metadata": {},
   "source": [
    "### 2. Retrieve the third salary in the list by using index."
   ]
  },
  {
   "cell_type": "code",
   "execution_count": 8,
   "id": "b6123b0b-8e52-45d1-9b50-b6659011c1d6",
   "metadata": {},
   "outputs": [
    {
     "data": {
      "text/plain": [
       "'60k'"
      ]
     },
     "execution_count": 8,
     "metadata": {},
     "output_type": "execute_result"
    }
   ],
   "source": [
    "salaries[3]"
   ]
  },
  {
   "cell_type": "markdown",
   "id": "bec1635c-b823-4ac2-9d59-53c7945013f6",
   "metadata": {},
   "source": [
    "### 3. Extract the last salary from the list by using a negative index."
   ]
  },
  {
   "cell_type": "code",
   "execution_count": 10,
   "id": "56a76ff1-c67b-44d9-a4c1-d887e046de3c",
   "metadata": {},
   "outputs": [
    {
     "data": {
      "text/plain": [
       "'40k'"
      ]
     },
     "execution_count": 10,
     "metadata": {},
     "output_type": "execute_result"
    }
   ],
   "source": [
    "salaries[1]"
   ]
  },
  {
   "cell_type": "markdown",
   "id": "e402f185-f193-474a-9993-17c4d935cca5",
   "metadata": {},
   "source": [
    "### 4. Slice the salaries list to get only the middle three salaries."
   ]
  },
  {
   "cell_type": "code",
   "execution_count": 12,
   "id": "a7221a67-c150-4547-beac-9bcab647f200",
   "metadata": {},
   "outputs": [
    {
     "data": {
      "text/plain": [
       "['50k', '60k', '35k']"
      ]
     },
     "execution_count": 12,
     "metadata": {},
     "output_type": "execute_result"
    }
   ],
   "source": [
    "salaries[2:5]"
   ]
  },
  {
   "cell_type": "markdown",
   "id": "35f0632f-e187-43bf-b600-e2bfce1d607f",
   "metadata": {},
   "source": [
    "### 5. Add a new salary to the list, ‘100k’ by using append() method."
   ]
  },
  {
   "cell_type": "code",
   "execution_count": 14,
   "id": "4a791d82-a479-4086-9226-a681c36d2704",
   "metadata": {},
   "outputs": [],
   "source": [
    "salaries=['20k', '40k', '50k', '60k', '35k', '89k', '40k']"
   ]
  },
  {
   "cell_type": "code",
   "execution_count": 15,
   "id": "38a4f889-775d-48a9-bdda-3050d0c10cc5",
   "metadata": {},
   "outputs": [],
   "source": [
    "salaries.append(\"100k\")"
   ]
  },
  {
   "cell_type": "code",
   "execution_count": 16,
   "id": "e052066e-c8ea-4e42-813b-252a414cf53a",
   "metadata": {},
   "outputs": [
    {
     "name": "stdout",
     "output_type": "stream",
     "text": [
      "['20k', '40k', '50k', '60k', '35k', '89k', '40k', '100k']\n"
     ]
    }
   ],
   "source": [
    "print(salaries)"
   ]
  },
  {
   "cell_type": "markdown",
   "id": "62a121e6-2805-4d77-abc2-e0554c484f46",
   "metadata": {},
   "source": [
    "### 5. Add a new salary to the list, ‘120k’ without method."
   ]
  },
  {
   "cell_type": "code",
   "execution_count": 18,
   "id": "524366a6-f109-437d-b74b-411fc1c07974",
   "metadata": {},
   "outputs": [],
   "source": [
    "salaries=salaries+['120k']"
   ]
  },
  {
   "cell_type": "code",
   "execution_count": 32,
   "id": "0924afc0-4c3a-4c77-a1e0-a9a66641370c",
   "metadata": {},
   "outputs": [
    {
     "name": "stdout",
     "output_type": "stream",
     "text": [
      "['20k', '40k', '50k', '60k', '35k', '89k', '40k', '100k', '120k']\n"
     ]
    }
   ],
   "source": [
    "print(salaries)"
   ]
  },
  {
   "cell_type": "markdown",
   "id": "a104a239-c3e3-453b-a24c-375fd1c9c7de",
   "metadata": {},
   "source": [
    "### 6. Replace the third salary in the list with '55k' and print the updated list."
   ]
  },
  {
   "cell_type": "code",
   "execution_count": 36,
   "id": "4dc1b814-b9b1-4af2-941c-ca63d2c037fc",
   "metadata": {},
   "outputs": [
    {
     "name": "stdout",
     "output_type": "stream",
     "text": [
      "['20k', '40k', '55k', '60k', '35k', '89k', '40k', '100k', '120k']\n"
     ]
    }
   ],
   "source": [
    "salaries[2]='55k'\n",
    "print(salaries)"
   ]
  },
  {
   "cell_type": "markdown",
   "id": "eba5b037-00bf-4546-a707-7ed8fc3d5028",
   "metadata": {},
   "source": [
    "### 7. Count how many times '40k' appears in the list."
   ]
  },
  {
   "cell_type": "code",
   "execution_count": 39,
   "id": "405bac77-a4ea-4050-8f04-401f2a2cb2f4",
   "metadata": {},
   "outputs": [
    {
     "data": {
      "text/plain": [
       "2"
      ]
     },
     "execution_count": 39,
     "metadata": {},
     "output_type": "execute_result"
    }
   ],
   "source": [
    "salaries.count('40k')"
   ]
  },
  {
   "cell_type": "markdown",
   "id": "cba8ec13-7f79-4c65-957d-6d8ef15172cc",
   "metadata": {},
   "source": [
    "### 8. Insert a new salary at the second position."
   ]
  },
  {
   "cell_type": "code",
   "execution_count": 74,
   "id": "c3064ad4-c64e-4dda-a0b3-0ae72c4cbc6d",
   "metadata": {},
   "outputs": [],
   "source": [
    "salaries.insert(1,'30k') # New salary 30k "
   ]
  },
  {
   "cell_type": "code",
   "execution_count": 76,
   "id": "13e5b9a2-22f0-4346-bee7-ba69acd3f5ac",
   "metadata": {},
   "outputs": [
    {
     "name": "stdout",
     "output_type": "stream",
     "text": [
      "['20k', '30k', '40k', '55k', '60k', '35k', '89k', '40k', '100k', '120k']\n"
     ]
    }
   ],
   "source": [
    "print(salaries)"
   ]
  },
  {
   "cell_type": "markdown",
   "id": "f9673d98-91b5-48b0-9f8d-846e8e24b8fe",
   "metadata": {},
   "source": [
    "### 9. Reverse the order of the salaries list with method."
   ]
  },
  {
   "cell_type": "code",
   "execution_count": 79,
   "id": "f86bb97a-a46a-476d-aa00-0641f060024e",
   "metadata": {},
   "outputs": [],
   "source": [
    "salaries.reverse()"
   ]
  },
  {
   "cell_type": "code",
   "execution_count": 81,
   "id": "1e12a0e0-6524-48c4-8aba-08ab7e800ea9",
   "metadata": {},
   "outputs": [
    {
     "name": "stdout",
     "output_type": "stream",
     "text": [
      "['120k', '100k', '40k', '89k', '35k', '60k', '55k', '40k', '30k', '20k']\n"
     ]
    }
   ],
   "source": [
    "print(salaries)"
   ]
  },
  {
   "cell_type": "markdown",
   "id": "689760be-fad4-405c-978b-63adbcb861af",
   "metadata": {},
   "source": [
    "### 10. Reverse the order of the salaries list without method."
   ]
  },
  {
   "cell_type": "code",
   "execution_count": 86,
   "id": "853ea0cf-e6b8-4ae3-bec7-bfd9fc85177b",
   "metadata": {},
   "outputs": [
    {
     "name": "stdout",
     "output_type": "stream",
     "text": [
      "['20k', '30k', '40k', '55k', '60k', '35k', '89k', '40k', '100k', '120k']\n"
     ]
    }
   ],
   "source": [
    "salaries=salaries[::-1]\n",
    "print(salaries)"
   ]
  },
  {
   "cell_type": "code",
   "execution_count": null,
   "id": "9ad15d40-6949-45f3-be98-2bef6d8fbd9b",
   "metadata": {},
   "outputs": [],
   "source": []
  }
 ],
 "metadata": {
  "kernelspec": {
   "display_name": "Python 3 (ipykernel)",
   "language": "python",
   "name": "python3"
  },
  "language_info": {
   "codemirror_mode": {
    "name": "ipython",
    "version": 3
   },
   "file_extension": ".py",
   "mimetype": "text/x-python",
   "name": "python",
   "nbconvert_exporter": "python",
   "pygments_lexer": "ipython3",
   "version": "3.12.7"
  }
 },
 "nbformat": 4,
 "nbformat_minor": 5
}
